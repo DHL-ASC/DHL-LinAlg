{
 "cells": [
  {
   "cell_type": "code",
   "execution_count": null,
   "id": "5586f8ca",
   "metadata": {},
   "outputs": [],
   "source": [
    "import pandas as pd\n",
    "import plotly.express as px\n",
    "import plotly.graph_objects as go\n",
    "import matplotlib.pyplot as plt\n",
    "import numpy as np"
   ]
  },
  {
   "cell_type": "code",
   "execution_count": null,
   "id": "a2161511",
   "metadata": {},
   "outputs": [],
   "source": [
    "libraries = [\"dhl\", \"numpy\", \"ngsolve\"]\n",
    "df = pd.DataFrame()\n",
    "for library in libraries:\n",
    "    try:\n",
    "        df = pd.concat([df, pd.read_csv(f\"results_{library}.csv\")])\n",
    "    except Exception as e:\n",
    "        print(e)\n",
    "        \n",
    "df.head()"
   ]
  },
  {
   "cell_type": "code",
   "execution_count": null,
   "id": "ae57b20f",
   "metadata": {},
   "outputs": [],
   "source": [
    "df_grouped = (\n",
    "    df.groupby([\"labels\", \"matrix_size\"])[\"gmacs\"]\n",
    "    .agg(['mean', 'std', 'count'])\n",
    ")\n",
    "df_grouped['ci'] = 1.96 * df_grouped['std'] / np.sqrt(df_grouped['count'])\n",
    "df_grouped['ci_lower'] = df_grouped['mean'] - df_grouped['ci']\n",
    "df_grouped['ci_upper'] = df_grouped['mean'] + df_grouped['ci']\n",
    "\n",
    "df_grouped = df_grouped.reset_index()\n",
    "df_grouped.head()"
   ]
  },
  {
   "cell_type": "markdown",
   "id": "5e970546",
   "metadata": {},
   "source": [
    "## Matplotlib"
   ]
  },
  {
   "cell_type": "code",
   "execution_count": null,
   "id": "54a9fea3",
   "metadata": {
    "scrolled": false
   },
   "outputs": [],
   "source": [
    "plt.figure(figsize=(10, 6))\n",
    "\n",
    "for label in df['labels'].unique():\n",
    "    thread_data = df[df['labels'] == label]\n",
    "    plt.scatter(thread_data['matrix_size'], thread_data['gmacs'], label=label)\n",
    "    \n",
    "    thread_data_grouped = df_grouped[df_grouped[\"labels\"] == label]\n",
    "    # Add mean line and a single filled confidence interval for each thread\n",
    "    plt.plot(thread_data_grouped[\"matrix_size\"], thread_data_grouped[\"mean\"], label=f'Mean {label}')\n",
    "    plt.fill_between(thread_data_grouped[\"matrix_size\"], thread_data_grouped[\"ci_lower\"], thread_data_grouped[\"ci_upper\"], alpha=0.2)\n",
    "\n",
    "plt.xlabel('Matrix Size')\n",
    "plt.ylabel('GMAC/s')\n",
    "plt.title('Matrix Matrix Multiplication')\n",
    "plt.legend()\n",
    "plt.grid()\n",
    "# plt.yscale('log') \n",
    "plt.show()"
   ]
  },
  {
   "cell_type": "markdown",
   "id": "71781edc",
   "metadata": {},
   "source": [
    "## Plotly"
   ]
  },
  {
   "cell_type": "code",
   "execution_count": null,
   "id": "89a9fe47",
   "metadata": {},
   "outputs": [],
   "source": [
    "import plotly.io as pio\n",
    "pio.renderers.default = \"notebook_connected\"\n",
    "\n",
    "fig = go.Figure()\n",
    "\n",
    "for label in df['labels'].unique():\n",
    "    thread_data = df[df['labels'] == label]\n",
    "    fig.add_trace(go.Scatter(x=thread_data['matrix_size'], y=thread_data['gmacs'], mode='markers', name=label))\n",
    "    \n",
    "    thread_data_grouped = df_grouped[df_grouped[\"labels\"] == label]\n",
    "    # Add mean line and a single filled confidence interval for each thread\n",
    "    fig.add_trace(go.Scatter(x=thread_data_grouped[\"matrix_size\"], y=thread_data_grouped[\"mean\"], mode='lines', line=dict(dash='dash'), name=f'Mean {label}'))\n",
    "    fig.add_trace(go.Scatter(x=thread_data_grouped[\"matrix_size\"], y=thread_data_grouped[\"ci_upper\"], mode='lines', line=dict(dash='dash'), showlegend=False, line_color = 'rgba(0,0,0,0)'))\n",
    "    fig.add_trace(go.Scatter(x=thread_data_grouped[\"matrix_size\"], y=thread_data_grouped[\"ci_lower\"], mode='lines',fill='tonexty', fillcolor='rgba(68, 68, 68, 0.3)', line=dict(dash='dash'), name=f'95% CI {label}', line_color = 'rgba(0,0,0,0)'))\n",
    "    \n",
    "fig.update_layout(\n",
    "    xaxis_title='Matrix Size', \n",
    "    yaxis_title='GMAC/s', \n",
    "    title='Matrix Matrix Multiplication',)\n",
    "\n",
    "fig.show()"
   ]
  },
  {
   "cell_type": "code",
   "execution_count": null,
   "id": "c89752c0",
   "metadata": {},
   "outputs": [],
   "source": [
    "fig = px.bar(df_grouped, x=\"matrix_size\", y=\"mean\", color=\"labels\", barmode='group')\n",
    "fig.update_layout(\n",
    "    xaxis_title='Matrix Size', \n",
    "    yaxis_title='GMAC/s', \n",
    "    title='Matrix Matrix Multiplication',\n",
    ")"
   ]
  },
  {
   "cell_type": "code",
   "execution_count": null,
   "id": "816af51e",
   "metadata": {},
   "outputs": [],
   "source": []
  }
 ],
 "metadata": {
  "kernelspec": {
   "display_name": "Python 3 (ipykernel)",
   "language": "python",
   "name": "python3"
  },
  "language_info": {
   "codemirror_mode": {
    "name": "ipython",
    "version": 3
   },
   "file_extension": ".py",
   "mimetype": "text/x-python",
   "name": "python",
   "nbconvert_exporter": "python",
   "pygments_lexer": "ipython3",
   "version": "3.11.4"
  }
 },
 "nbformat": 4,
 "nbformat_minor": 5
}
