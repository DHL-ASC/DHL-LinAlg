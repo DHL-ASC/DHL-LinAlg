{
 "cells": [
  {
   "cell_type": "code",
   "execution_count": 11,
   "id": "c1a18fe0",
   "metadata": {},
   "outputs": [],
   "source": [
    "from dhllinalg.bla import Matrix, InnerProduct"
   ]
  },
  {
   "cell_type": "code",
   "execution_count": 12,
   "id": "daa41f14",
   "metadata": {},
   "outputs": [],
   "source": [
    "m = Matrix(17,9)\n",
    "n = Matrix(9,17)\n",
    "m[:,:] = 1\n",
    "for i in range(9):\n",
    "    for j in range(17):\n",
    "        n[i,j] = 1"
   ]
  },
  {
   "cell_type": "code",
   "execution_count": 13,
   "id": "068ff2eb",
   "metadata": {},
   "outputs": [
    {
     "name": "stdout",
     "output_type": "stream",
     "text": [
      "1, 1, 1, 1, 1, 1, 1, 1, 1, \n",
      " 1, 1, 1, 1, 1, 1, 1, 1, 1, \n",
      " 1, 1, 1, 1, 1, 1, 1, 1, 1, \n",
      " 1, 1, 1, 1, 1, 1, 1, 1, 1, \n",
      " 1, 1, 1, 1, 1, 1, 1, 1, 1, \n",
      " 1, 1, 1, 1, 1, 1, 1, 1, 1, \n",
      " 1, 1, 1, 1, 1, 1, 1, 1, 1, \n",
      " 1, 1, 1, 1, 1, 1, 1, 1, 1, \n",
      " 1, 1, 1, 1, 1, 1, 1, 1, 1, \n",
      " 1, 1, 1, 1, 1, 1, 1, 1, 1, \n",
      " 1, 1, 1, 1, 1, 1, 1, 1, 1, \n",
      " 1, 1, 1, 1, 1, 1, 1, 1, 1, \n",
      " 1, 1, 1, 1, 1, 1, 1, 1, 1, \n",
      " 1, 1, 1, 1, 1, 1, 1, 1, 1, \n",
      " 1, 1, 1, 1, 1, 1, 1, 1, 1, \n",
      " 1, 1, 1, 1, 1, 1, 1, 1, 1, \n",
      " 1, 1, 1, 1, 1, 1, 1, 1, 1, \n",
      "  1, 1, 1, 1, 1, 1, 1, 1, 1, 1, 1, 1, 1, 1, 1, 1, 1, \n",
      " 1, 1, 1, 1, 1, 1, 1, 1, 1, 1, 1, 1, 1, 1, 1, 1, 1, \n",
      " 1, 1, 1, 1, 1, 1, 1, 1, 1, 1, 1, 1, 1, 1, 1, 1, 1, \n",
      " 1, 1, 1, 1, 1, 1, 1, 1, 1, 1, 1, 1, 1, 1, 1, 1, 1, \n",
      " 1, 1, 1, 1, 1, 1, 1, 1, 1, 1, 1, 1, 1, 1, 1, 1, 1, \n",
      " 1, 1, 1, 1, 1, 1, 1, 1, 1, 1, 1, 1, 1, 1, 1, 1, 1, \n",
      " 1, 1, 1, 1, 1, 1, 1, 1, 1, 1, 1, 1, 1, 1, 1, 1, 1, \n",
      " 1, 1, 1, 1, 1, 1, 1, 1, 1, 1, 1, 1, 1, 1, 1, 1, 1, \n",
      " 1, 1, 1, 1, 1, 1, 1, 1, 1, 1, 1, 1, 1, 1, 1, 1, 1, \n",
      " \n"
     ]
    }
   ],
   "source": [
    "print(m,n)"
   ]
  },
  {
   "cell_type": "code",
   "execution_count": 14,
   "id": "584f7213",
   "metadata": {},
   "outputs": [
    {
     "name": "stdout",
     "output_type": "stream",
     "text": [
      "InnerProduct\n",
      "2x simd16, (i,j)=0, 0\n",
      "2x simd0, (i,j)=0, 16\n",
      "2x simd16, (i,j)=2, 0\n",
      "2x simd0, (i,j)=2, 16\n",
      "2x simd16, (i,j)=4, 0\n",
      "2x simd0, (i,j)=4, 16\n",
      "2x simd16, (i,j)=6, 0\n",
      "2x simd0, (i,j)=6, 16\n",
      "2x simd16, (i,j)=8, 0\n",
      "2x simd0, (i,j)=8, 16\n",
      "2x simd16, (i,j)=10, 0\n",
      "2x simd0, (i,j)=10, 16\n",
      "2x simd16, (i,j)=12, 0\n",
      "2x simd0, (i,j)=12, 16\n",
      "2x simd16, (i,j)=14, 0\n",
      "2x simd0, (i,j)=14, 16\n",
      "simd16, (i,j)=16, 0\n",
      "simd0, (i,j)=16, 16\n"
     ]
    }
   ],
   "source": [
    "c=InnerProduct(n,m)"
   ]
  },
  {
   "cell_type": "code",
   "execution_count": 15,
   "id": "0917af8a",
   "metadata": {},
   "outputs": [
    {
     "name": "stdout",
     "output_type": "stream",
     "text": [
      "9, 9, 9, 9, 9, 9, 9, 9, 9, 9, 9, 9, 9, 9, 9, 9, 9, \n",
      " 9, 9, 9, 9, 9, 9, 9, 9, 9, 9, 9, 9, 9, 9, 9, 9, 9, \n",
      " 9, 9, 9, 9, 9, 9, 9, 9, 9, 9, 9, 9, 9, 9, 9, 9, 9, \n",
      " 9, 9, 9, 9, 9, 9, 9, 9, 9, 9, 9, 9, 9, 9, 9, 9, 9, \n",
      " 9, 9, 9, 9, 9, 9, 9, 9, 9, 9, 9, 9, 9, 9, 9, 9, 9, \n",
      " 9, 9, 9, 9, 9, 9, 9, 9, 9, 9, 9, 9, 9, 9, 9, 9, 9, \n",
      " 9, 9, 9, 9, 9, 9, 9, 9, 9, 9, 9, 9, 9, 9, 9, 9, 9, \n",
      " 9, 9, 9, 9, 9, 9, 9, 9, 9, 9, 9, 9, 9, 9, 9, 9, 9, \n",
      " 9, 9, 9, 9, 9, 9, 9, 9, 9, 9, 9, 9, 9, 9, 9, 9, 9, \n",
      " 9, 9, 9, 9, 9, 9, 9, 9, 9, 9, 9, 9, 9, 9, 9, 9, 9, \n",
      " 9, 9, 9, 9, 9, 9, 9, 9, 9, 9, 9, 9, 9, 9, 9, 9, 9, \n",
      " 9, 9, 9, 9, 9, 9, 9, 9, 9, 9, 9, 9, 9, 9, 9, 9, 9, \n",
      " 9, 9, 9, 9, 9, 9, 9, 9, 9, 9, 9, 9, 9, 9, 9, 9, 9, \n",
      " 9, 9, 9, 9, 9, 9, 9, 9, 9, 9, 9, 9, 9, 9, 9, 9, 9, \n",
      " 9, 9, 9, 9, 9, 9, 9, 9, 9, 9, 9, 9, 9, 9, 9, 9, 9, \n",
      " 9, 9, 9, 9, 9, 9, 9, 9, 9, 9, 9, 9, 9, 9, 9, 9, 9, \n",
      " 9, 9, 9, 9, 9, 9, 9, 9, 9, 9, 9, 9, 9, 9, 9, 9, 9, \n",
      " \n"
     ]
    }
   ],
   "source": [
    "print(c)"
   ]
  },
  {
   "cell_type": "code",
   "execution_count": null,
   "id": "32804c4c",
   "metadata": {},
   "outputs": [],
   "source": []
  }
 ],
 "metadata": {
  "kernelspec": {
   "display_name": "Python 3 (ipykernel)",
   "language": "python",
   "name": "python3"
  },
  "language_info": {
   "codemirror_mode": {
    "name": "ipython",
    "version": 3
   },
   "file_extension": ".py",
   "mimetype": "text/x-python",
   "name": "python",
   "nbconvert_exporter": "python",
   "pygments_lexer": "ipython3",
   "version": "3.8.2"
  }
 },
 "nbformat": 4,
 "nbformat_minor": 5
}
