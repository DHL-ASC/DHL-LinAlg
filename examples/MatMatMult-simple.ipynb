{
 "cells": [
  {
   "cell_type": "code",
   "execution_count": null,
   "id": "c1a18fe0",
   "metadata": {},
   "outputs": [],
   "source": [
    "from dhllinalg.bla import Matrix, InnerProduct\n",
    "import numpy as np"
   ]
  },
  {
   "cell_type": "code",
   "execution_count": null,
   "id": "daa41f14",
   "metadata": {},
   "outputs": [],
   "source": [
    "s = 32\n",
    "t = 32\n",
    "\n",
    "m = Matrix(s,t)\n",
    "n = Matrix(t,s)\n",
    "# m[:,:] = 1\n",
    "for i in range(t):\n",
    "    for j in range(s):\n",
    "        n[i,j] = i \n",
    "        m[j,i]= i \n",
    "        \n",
    "numpy_m = np.asarray(m)\n",
    "numpy_n = np.asarray(n)"
   ]
  },
  {
   "cell_type": "code",
   "execution_count": null,
   "id": "068ff2eb",
   "metadata": {
    "scrolled": false
   },
   "outputs": [],
   "source": [
    "c=InnerProduct(n,m)\n",
    "d=InnerProduct(m,n)\n",
    "\n",
    "print(np.array_equal(np.asarray(c), np.dot(numpy_n, numpy_m)))\n",
    "print(np.array_equal(np.asarray(d), np.dot(numpy_m, numpy_n)))"
   ]
  },
  {
   "cell_type": "code",
   "execution_count": null,
   "id": "584f7213",
   "metadata": {
    "scrolled": false
   },
   "outputs": [],
   "source": [
    "print(c)\n",
    "print(d)"
   ]
  },
  {
   "cell_type": "code",
   "execution_count": null,
   "id": "0917af8a",
   "metadata": {},
   "outputs": [],
   "source": [
    "np.dot(numpy_n, numpy_m)"
   ]
  },
  {
   "cell_type": "code",
   "execution_count": null,
   "id": "7bbec5b5",
   "metadata": {},
   "outputs": [],
   "source": [
    "np.dot(numpy_m, numpy_n)"
   ]
  },
  {
   "cell_type": "code",
   "execution_count": null,
   "id": "32804c4c",
   "metadata": {},
   "outputs": [],
   "source": [
    "numpy_m"
   ]
  },
  {
   "cell_type": "code",
   "execution_count": null,
   "id": "8231991b",
   "metadata": {},
   "outputs": [],
   "source": [
    "print(m)"
   ]
  },
  {
   "cell_type": "code",
   "execution_count": null,
   "id": "af054a33",
   "metadata": {},
   "outputs": [],
   "source": []
  }
 ],
 "metadata": {
  "kernelspec": {
   "display_name": "Python 3 (ipykernel)",
   "language": "python",
   "name": "python3"
  },
  "language_info": {
   "codemirror_mode": {
    "name": "ipython",
    "version": 3
   },
   "file_extension": ".py",
   "mimetype": "text/x-python",
   "name": "python",
   "nbconvert_exporter": "python",
   "pygments_lexer": "ipython3",
   "version": "3.11.4"
  }
 },
 "nbformat": 4,
 "nbformat_minor": 5
}
